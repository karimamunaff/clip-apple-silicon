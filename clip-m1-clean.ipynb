{
 "cells": [
  {
   "cell_type": "code",
   "execution_count": 1,
   "metadata": {},
   "outputs": [
    {
     "name": "stderr",
     "output_type": "stream",
     "text": [
      "/Users/abdulkarim/Library/Caches/pypoetry/virtualenvs/clip-apple-silicon-6F11_YAs-py3.9/lib/python3.9/site-packages/tqdm/auto.py:22: TqdmWarning: IProgress not found. Please update jupyter and ipywidgets. See https://ipywidgets.readthedocs.io/en/stable/user_install.html\n",
      "  from .autonotebook import tqdm as notebook_tqdm\n"
     ]
    }
   ],
   "source": [
    "import clip\n",
    "import torch\n",
    "import PIL\n",
    "import numpy as np\n",
    "from tqdm import tqdm"
   ]
  },
  {
   "cell_type": "code",
   "execution_count": 2,
   "metadata": {},
   "outputs": [],
   "source": [
    "device = \"mps\" if torch.has_mps else \"cpu\"\n",
    "model, preprocess = clip.load(\"ViT-B/32\", device=device)"
   ]
  },
  {
   "cell_type": "code",
   "execution_count": 3,
   "metadata": {},
   "outputs": [],
   "source": [
    "image = preprocess(PIL.Image.open(\"data/dog.jpeg\")).unsqueeze(0).to(device)\n",
    "labels = clip.tokenize([\"pizza\",\"dog\", \"car\", \"person\", \"computer\"]).to(device)"
   ]
  },
  {
   "cell_type": "code",
   "execution_count": 4,
   "metadata": {},
   "outputs": [],
   "source": [
    "def encode_text(model, text):\n",
    "    x = model.token_embedding(text).type(model.dtype)  # [batch_size, n_ctx, d_model]\n",
    "\n",
    "    x = x + model.positional_embedding.type(model.dtype)\n",
    "    num_bpe_tokens, num_text, embedding_size = x.shape\n",
    "    x = x.transpose(1,0).contiguous().view(num_text, num_bpe_tokens, embedding_size)  # NLD -> LND\n",
    "    x = model.transformer(x)\n",
    "    x = x.transpose(1,0).contiguous().view(num_bpe_tokens, num_text, embedding_size) # LND -> NLD\n",
    "    x = model.ln_final(x).type(model.dtype)\n",
    "\n",
    "    # x.shape = [batch_size, n_ctx, transformer.width]\n",
    "    # take features from the eot embedding (eot_token is the highest number in each sequence)\n",
    "    try:\n",
    "        x = x[torch.arange(x.shape[0]), text.argmax(dim=-1)] @ model.text_projection\n",
    "    except NotImplementedError:\n",
    "        text = text.to('cpu')\n",
    "        x = x.to('cpu')\n",
    "        x = x[torch.arange(x.shape[0]), text.argmax(dim=-1)].to('mps') @ model.text_projection\n",
    "    return x\n",
    "\n",
    "\n",
    "def encode_image(vision_model, x: torch.Tensor):\n",
    "    x = vision_model.conv1(x)  # shape = [*, width, grid, grid]\n",
    "    x = x.reshape(x.shape[0], x.shape[1], -1)  # shape = [*, width, grid ** 2]\n",
    "    batch_size, width, grid = x.shape\n",
    "    x = x.transpose(2,1).contiguous().view(batch_size, grid, width)#x.permute(0, 2, 1)  # shape = [*, grid ** 2, width]\n",
    "    x = torch.cat([vision_model.class_embedding.to(x.dtype) + torch.zeros(x.shape[0], 1, x.shape[-1], dtype=x.dtype, device=x.device), x], dim=1)  # shape = [*, grid ** 2 + 1, width]\n",
    "    x = x + vision_model.positional_embedding.to(x.dtype)\n",
    "    x = vision_model.ln_pre(x)\n",
    "\n",
    "    batch_size, width, grid = x.shape\n",
    "    x = x.transpose(1,0).contiguous().view(width, batch_size, grid) #x.permute(1, 0, 2)  # NLD -> LND\n",
    "    x = vision_model.transformer(x)\n",
    "    x = x.transpose(1,0).contiguous().view(batch_size, width, grid)#x.permute(1, 0, 2)  # LND -> NLD\n",
    "\n",
    "    x = vision_model.ln_post(x[:, 0, :])\n",
    "\n",
    "    if vision_model.proj is not None:\n",
    "        x = x @ vision_model.proj\n",
    "\n",
    "    return x\n"
   ]
  },
  {
   "cell_type": "code",
   "execution_count": 5,
   "metadata": {},
   "outputs": [
    {
     "data": {
      "text/plain": [
       "array([[1.065e-04, 9.932e-01, 6.323e-04, 6.287e-03, 8.422e-05]],\n",
       "      dtype=float16)"
      ]
     },
     "execution_count": 5,
     "metadata": {},
     "output_type": "execute_result"
    }
   ],
   "source": [
    "with torch.no_grad():\n",
    "    image_features = encode_image(model.visual, image.type(model.dtype))\n",
    "    text_features = encode_text(model, labels)\n",
    "    image_features =  image_features / image_features.norm(dim=-1, keepdim=True)\n",
    "    text_features  = text_features / text_features.norm(dim=-1, keepdim=True)\n",
    "    similarities = 100* image_features @ text_features.t()\n",
    "    probs = similarities.softmax(dim=-1).cpu().numpy()\n",
    "probs"
   ]
  },
  {
   "cell_type": "code",
   "execution_count": null,
   "metadata": {},
   "outputs": [],
   "source": []
  },
  {
   "cell_type": "code",
   "execution_count": null,
   "metadata": {},
   "outputs": [],
   "source": []
  }
 ],
 "metadata": {
  "kernelspec": {
   "display_name": "Python 3.9.13 ('clip-apple-silicon-6F11_YAs-py3.9')",
   "language": "python",
   "name": "python3"
  },
  "language_info": {
   "codemirror_mode": {
    "name": "ipython",
    "version": 3
   },
   "file_extension": ".py",
   "mimetype": "text/x-python",
   "name": "python",
   "nbconvert_exporter": "python",
   "pygments_lexer": "ipython3",
   "version": "3.9.13"
  },
  "orig_nbformat": 4,
  "vscode": {
   "interpreter": {
    "hash": "199ca9d50bb93c721199996d28b26324c77c4727ddb535052d059b5242eeb5ec"
   }
  }
 },
 "nbformat": 4,
 "nbformat_minor": 2
}
